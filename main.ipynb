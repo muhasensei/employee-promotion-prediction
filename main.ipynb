{
 "cells": [
  {
   "cell_type": "code",
   "execution_count": 65,
   "id": "566ed19b",
   "metadata": {},
   "outputs": [],
   "source": [
    "import pandas as pd\n",
    "import numpy as np"
   ]
  },
  {
   "cell_type": "code",
   "execution_count": 94,
   "id": "d2faa9a6",
   "metadata": {
    "scrolled": true
   },
   "outputs": [
    {
     "data": {
      "text/html": [
       "<div>\n",
       "<style scoped>\n",
       "    .dataframe tbody tr th:only-of-type {\n",
       "        vertical-align: middle;\n",
       "    }\n",
       "\n",
       "    .dataframe tbody tr th {\n",
       "        vertical-align: top;\n",
       "    }\n",
       "\n",
       "    .dataframe thead th {\n",
       "        text-align: right;\n",
       "    }\n",
       "</style>\n",
       "<table border=\"1\" class=\"dataframe\">\n",
       "  <thead>\n",
       "    <tr style=\"text-align: right;\">\n",
       "      <th></th>\n",
       "      <th>n_of_individual_projects</th>\n",
       "      <th>motivation_r</th>\n",
       "      <th>relationship_with_others_r</th>\n",
       "      <th>communication_skills_r</th>\n",
       "      <th>task_management_r</th>\n",
       "      <th>salary(thousand kzt)</th>\n",
       "      <th>total_rating</th>\n",
       "      <th>promoted</th>\n",
       "    </tr>\n",
       "  </thead>\n",
       "  <tbody>\n",
       "    <tr>\n",
       "      <th>0</th>\n",
       "      <td>2.0</td>\n",
       "      <td>0.200000</td>\n",
       "      <td>0.200000</td>\n",
       "      <td>0.200000</td>\n",
       "      <td>0.200000</td>\n",
       "      <td>100.0</td>\n",
       "      <td>0.800000</td>\n",
       "      <td>0.0</td>\n",
       "    </tr>\n",
       "    <tr>\n",
       "      <th>1</th>\n",
       "      <td>3.0</td>\n",
       "      <td>0.500000</td>\n",
       "      <td>0.500000</td>\n",
       "      <td>0.500000</td>\n",
       "      <td>0.500000</td>\n",
       "      <td>150.0</td>\n",
       "      <td>0.700000</td>\n",
       "      <td>1.0</td>\n",
       "    </tr>\n",
       "    <tr>\n",
       "      <th>2</th>\n",
       "      <td>3.0</td>\n",
       "      <td>0.907390</td>\n",
       "      <td>0.880383</td>\n",
       "      <td>0.886172</td>\n",
       "      <td>0.854583</td>\n",
       "      <td>86.0</td>\n",
       "      <td>0.717144</td>\n",
       "      <td>0.0</td>\n",
       "    </tr>\n",
       "    <tr>\n",
       "      <th>3</th>\n",
       "      <td>0.0</td>\n",
       "      <td>0.954438</td>\n",
       "      <td>0.951636</td>\n",
       "      <td>0.656876</td>\n",
       "      <td>0.959900</td>\n",
       "      <td>441.0</td>\n",
       "      <td>0.947162</td>\n",
       "      <td>0.0</td>\n",
       "    </tr>\n",
       "    <tr>\n",
       "      <th>4</th>\n",
       "      <td>1.0</td>\n",
       "      <td>0.677607</td>\n",
       "      <td>0.975069</td>\n",
       "      <td>0.532699</td>\n",
       "      <td>0.451263</td>\n",
       "      <td>385.0</td>\n",
       "      <td>0.458558</td>\n",
       "      <td>0.0</td>\n",
       "    </tr>\n",
       "  </tbody>\n",
       "</table>\n",
       "</div>"
      ],
      "text/plain": [
       "   n_of_individual_projects  motivation_r  relationship_with_others_r  \\\n",
       "0                       2.0      0.200000                    0.200000   \n",
       "1                       3.0      0.500000                    0.500000   \n",
       "2                       3.0      0.907390                    0.880383   \n",
       "3                       0.0      0.954438                    0.951636   \n",
       "4                       1.0      0.677607                    0.975069   \n",
       "\n",
       "   communication_skills_r  task_management_r  salary(thousand kzt)  \\\n",
       "0                0.200000           0.200000                 100.0   \n",
       "1                0.500000           0.500000                 150.0   \n",
       "2                0.886172           0.854583                  86.0   \n",
       "3                0.656876           0.959900                 441.0   \n",
       "4                0.532699           0.451263                 385.0   \n",
       "\n",
       "   total_rating  promoted  \n",
       "0      0.800000       0.0  \n",
       "1      0.700000       1.0  \n",
       "2      0.717144       0.0  \n",
       "3      0.947162       0.0  \n",
       "4      0.458558       0.0  "
      ]
     },
     "execution_count": 94,
     "metadata": {},
     "output_type": "execute_result"
    }
   ],
   "source": [
    "data = pd.read_csv('my-new-set.csv')\n",
    "data.head()"
   ]
  },
  {
   "cell_type": "code",
   "execution_count": 69,
   "id": "1982afc0",
   "metadata": {},
   "outputs": [],
   "source": [
    "from sklearn.model_selection import train_test_split\n",
    "X = data.drop(columns='promoted', axis=1);\n",
    "y = data['promoted']\n",
    "x_train, x_test, y_train, y_test = train_test_split(X, y, test_size=0.2)"
   ]
  },
  {
   "cell_type": "markdown",
   "id": "38fab4e6",
   "metadata": {},
   "source": [
    "# Gradient Boosting"
   ]
  },
  {
   "cell_type": "code",
   "execution_count": 70,
   "id": "a5bc0573",
   "metadata": {},
   "outputs": [],
   "source": [
    "from sklearn.ensemble import GradientBoostingClassifier\n",
    "import pickle\n",
    "gb = GradientBoostingClassifier()\n",
    "gb.fit(x_train, y_train)\n",
    "y_gb_pred = gb.predict(x_test)"
   ]
  },
  {
   "cell_type": "code",
   "execution_count": 71,
   "id": "c005e12b",
   "metadata": {},
   "outputs": [
    {
     "name": "stdout",
     "output_type": "stream",
     "text": [
      "Accuracy: 0.9534883720930233\n"
     ]
    }
   ],
   "source": [
    "from sklearn import metrics\n",
    "print(\"Accuracy:\",metrics.accuracy_score(y_test, y_gb_pred))"
   ]
  },
  {
   "cell_type": "code",
   "execution_count": 72,
   "id": "a8a5ac5e",
   "metadata": {},
   "outputs": [],
   "source": [
    "# saving gradient boosting\n",
    "with open('model_gb', 'wb') as files:\n",
    "    pickle.dump(gb, files)"
   ]
  },
  {
   "cell_type": "markdown",
   "id": "a15f59c6",
   "metadata": {},
   "source": [
    "# Random Forest"
   ]
  },
  {
   "cell_type": "code",
   "execution_count": 73,
   "id": "f1797029",
   "metadata": {},
   "outputs": [],
   "source": [
    "from sklearn.ensemble import RandomForestClassifier\n",
    "rf = RandomForestClassifier(max_depth=3, random_state=0)\n",
    "rf.fit(x_train, y_train)\n",
    "y_rf_pred = rf.predict(x_test)"
   ]
  },
  {
   "cell_type": "code",
   "execution_count": 74,
   "id": "0a60b241",
   "metadata": {},
   "outputs": [
    {
     "name": "stdout",
     "output_type": "stream",
     "text": [
      "Accuracy: 0.9435215946843853\n"
     ]
    }
   ],
   "source": [
    "print(\"Accuracy:\",metrics.accuracy_score(y_test, y_rf_pred))"
   ]
  },
  {
   "cell_type": "code",
   "execution_count": 75,
   "id": "b4034daf",
   "metadata": {},
   "outputs": [],
   "source": [
    "# saving random forest\n",
    "with open('model_rf', 'wb') as files:\n",
    "    pickle.dump(rf, files)"
   ]
  },
  {
   "cell_type": "markdown",
   "id": "c0e32a7d",
   "metadata": {},
   "source": [
    "# Keras Sequential"
   ]
  },
  {
   "cell_type": "code",
   "execution_count": 76,
   "id": "cf34354f",
   "metadata": {},
   "outputs": [],
   "source": [
    "import tensorflow as tf\n",
    "from tensorflow import keras\n",
    "from tensorflow.keras import layers"
   ]
  },
  {
   "cell_type": "code",
   "execution_count": 77,
   "id": "b9e25fbc",
   "metadata": {},
   "outputs": [],
   "source": [
    "def dataframe_to_dataset(data):\n",
    "    data = data.copy()\n",
    "    labels = data.pop(\"promoted\")\n",
    "    ds = tf.data.Dataset.from_tensor_slices((dict(data), labels))\n",
    "    ds = ds.shuffle(buffer_size=len(data))\n",
    "    return ds"
   ]
  },
  {
   "cell_type": "code",
   "execution_count": 78,
   "id": "0cbd881c",
   "metadata": {},
   "outputs": [],
   "source": [
    "val_dataframe = data.sample(frac=0.2, random_state=1337)\n",
    "train_dataframe = data.drop(val_dataframe.index)\n",
    "\n",
    "train_ds = dataframe_to_dataset(train_dataframe)\n",
    "val_ds = dataframe_to_dataset(val_dataframe)"
   ]
  },
  {
   "cell_type": "code",
   "execution_count": 79,
   "id": "267134ab",
   "metadata": {},
   "outputs": [],
   "source": [
    "train_ds = train_ds.batch(32)\n",
    "val_ds = val_ds.batch(32)"
   ]
  },
  {
   "cell_type": "code",
   "execution_count": 80,
   "id": "1fb1622a",
   "metadata": {},
   "outputs": [],
   "source": [
    "from tensorflow.keras.layers import Normalization\n",
    "\n",
    "def encode_numerical_feature(feature, name, dataset):\n",
    "    normalizer = Normalization()\n",
    "    feature_ds = dataset.map(lambda x, y: x[name])\n",
    "    feature_ds = feature_ds.map(lambda x: tf.expand_dims(x, -1))\n",
    "    normalizer.adapt(feature_ds)\n",
    "    encoded_feature = normalizer(feature)\n",
    "    return encoded_feature\n"
   ]
  },
  {
   "cell_type": "code",
   "execution_count": 81,
   "id": "90051e8e",
   "metadata": {},
   "outputs": [],
   "source": [
    "# Numerical features\n",
    "salary = keras.Input(shape=(1,), name=\"salary(thousand kzt)\")\n",
    "n_of_individual_projects = keras.Input(shape=(1,), name=\"n_of_individual_projects\")\n",
    "motivation_r = keras.Input(shape=(1,), name=\"motivation_r\")\n",
    "relationship_with_others_r = keras.Input(shape=(1,), name=\"relationship_with_others_r\")\n",
    "communication_skills_r = keras.Input(shape=(1,), name=\"communication_skills_r\")\n",
    "task_management_r = keras.Input(shape=(1,), name=\"task_management_r\")\n",
    "total_rating = keras.Input(shape=(1,), name=\"total_rating\")\n",
    "\n",
    "all_inputs = [\n",
    "    salary,\n",
    "    n_of_individual_projects,\n",
    "    motivation_r,\n",
    "    relationship_with_others_r,\n",
    "    communication_skills_r,\n",
    "    task_management_r,\n",
    "    total_rating,\n",
    "]\n",
    "\n",
    "\n",
    "# Numerical features\n",
    "salary_encoded = encode_numerical_feature(salary, \"salary(thousand kzt)\", train_ds)\n",
    "noip_encoded = encode_numerical_feature(n_of_individual_projects, \"n_of_individual_projects\", train_ds)\n",
    "mr_encoded = encode_numerical_feature(motivation_r, \"motivation_r\", train_ds)\n",
    "rwo_encoded = encode_numerical_feature(relationship_with_others_r, \"relationship_with_others_r\", train_ds)\n",
    "cs_encoded = encode_numerical_feature(communication_skills_r, \"communication_skills_r\", train_ds)\n",
    "tm_encoded = encode_numerical_feature(task_management_r, \"task_management_r\", train_ds)\n",
    "tr_encoded = encode_numerical_feature(total_rating, \"total_rating\", train_ds)\n",
    "\n",
    "all_features = layers.concatenate(\n",
    "    [\n",
    "        salary_encoded,\n",
    "        noip_encoded,\n",
    "        mr_encoded,\n",
    "        rwo_encoded,\n",
    "        cs_encoded,\n",
    "        tm_encoded,\n",
    "        tr_encoded,\n",
    "    ]\n",
    ")\n",
    "x = layers.Dense(32, activation=\"relu\")(all_features)\n",
    "x = layers.Dropout(0.5)(x)\n",
    "output = layers.Dense(1, activation=\"sigmoid\")(x)\n",
    "model = keras.Model(all_inputs, output)\n",
    "model.compile(\"adam\", \"binary_crossentropy\", metrics=[\"accuracy\"])"
   ]
  },
  {
   "cell_type": "code",
   "execution_count": 82,
   "id": "edccec1c",
   "metadata": {
    "scrolled": true
   },
   "outputs": [
    {
     "name": "stdout",
     "output_type": "stream",
     "text": [
      "Epoch 1/50\n",
      "38/38 [==============================] - 1s 5ms/step - loss: 0.7397 - accuracy: 0.5033 - val_loss: 0.6085 - val_accuracy: 0.7967\n",
      "Epoch 2/50\n",
      "38/38 [==============================] - 0s 2ms/step - loss: 0.5522 - accuracy: 0.7488 - val_loss: 0.4586 - val_accuracy: 0.9167\n",
      "Epoch 3/50\n",
      "38/38 [==============================] - 0s 2ms/step - loss: 0.4399 - accuracy: 0.8369 - val_loss: 0.3657 - val_accuracy: 0.9233\n",
      "Epoch 4/50\n",
      "38/38 [==============================] - 0s 2ms/step - loss: 0.3712 - accuracy: 0.8860 - val_loss: 0.3058 - val_accuracy: 0.9333\n",
      "Epoch 5/50\n",
      "38/38 [==============================] - 0s 2ms/step - loss: 0.3304 - accuracy: 0.9002 - val_loss: 0.2677 - val_accuracy: 0.9333\n",
      "Epoch 6/50\n",
      "38/38 [==============================] - 0s 2ms/step - loss: 0.2917 - accuracy: 0.9085 - val_loss: 0.2399 - val_accuracy: 0.9333\n",
      "Epoch 7/50\n",
      "38/38 [==============================] - 0s 2ms/step - loss: 0.2660 - accuracy: 0.9143 - val_loss: 0.2214 - val_accuracy: 0.9333\n",
      "Epoch 8/50\n",
      "38/38 [==============================] - 0s 2ms/step - loss: 0.2529 - accuracy: 0.9168 - val_loss: 0.2056 - val_accuracy: 0.9333\n",
      "Epoch 9/50\n",
      "38/38 [==============================] - 0s 2ms/step - loss: 0.2393 - accuracy: 0.9143 - val_loss: 0.1945 - val_accuracy: 0.9333\n",
      "Epoch 10/50\n",
      "38/38 [==============================] - 0s 2ms/step - loss: 0.2216 - accuracy: 0.9210 - val_loss: 0.1854 - val_accuracy: 0.9300\n",
      "Epoch 11/50\n",
      "38/38 [==============================] - 0s 2ms/step - loss: 0.2261 - accuracy: 0.9201 - val_loss: 0.1789 - val_accuracy: 0.9267\n",
      "Epoch 12/50\n",
      "38/38 [==============================] - 0s 2ms/step - loss: 0.2036 - accuracy: 0.9268 - val_loss: 0.1726 - val_accuracy: 0.9300\n",
      "Epoch 13/50\n",
      "38/38 [==============================] - 0s 2ms/step - loss: 0.2077 - accuracy: 0.9193 - val_loss: 0.1692 - val_accuracy: 0.9300\n",
      "Epoch 14/50\n",
      "38/38 [==============================] - 0s 2ms/step - loss: 0.2016 - accuracy: 0.9201 - val_loss: 0.1659 - val_accuracy: 0.9333\n",
      "Epoch 15/50\n",
      "38/38 [==============================] - 0s 2ms/step - loss: 0.2014 - accuracy: 0.9260 - val_loss: 0.1626 - val_accuracy: 0.9267\n",
      "Epoch 16/50\n",
      "38/38 [==============================] - 0s 2ms/step - loss: 0.2091 - accuracy: 0.9118 - val_loss: 0.1605 - val_accuracy: 0.9300\n",
      "Epoch 17/50\n",
      "38/38 [==============================] - 0s 2ms/step - loss: 0.1867 - accuracy: 0.9301 - val_loss: 0.1591 - val_accuracy: 0.9300\n",
      "Epoch 18/50\n",
      "38/38 [==============================] - 0s 2ms/step - loss: 0.1877 - accuracy: 0.9384 - val_loss: 0.1576 - val_accuracy: 0.9333\n",
      "Epoch 19/50\n",
      "38/38 [==============================] - 0s 2ms/step - loss: 0.1834 - accuracy: 0.9334 - val_loss: 0.1554 - val_accuracy: 0.9333\n",
      "Epoch 20/50\n",
      "38/38 [==============================] - 0s 2ms/step - loss: 0.1814 - accuracy: 0.9343 - val_loss: 0.1545 - val_accuracy: 0.9367\n",
      "Epoch 21/50\n",
      "38/38 [==============================] - 0s 2ms/step - loss: 0.1833 - accuracy: 0.9334 - val_loss: 0.1530 - val_accuracy: 0.9367\n",
      "Epoch 22/50\n",
      "38/38 [==============================] - 0s 2ms/step - loss: 0.1722 - accuracy: 0.9401 - val_loss: 0.1526 - val_accuracy: 0.9367\n",
      "Epoch 23/50\n",
      "38/38 [==============================] - 0s 2ms/step - loss: 0.1897 - accuracy: 0.9301 - val_loss: 0.1520 - val_accuracy: 0.9367\n",
      "Epoch 24/50\n",
      "38/38 [==============================] - 0s 2ms/step - loss: 0.1794 - accuracy: 0.9384 - val_loss: 0.1513 - val_accuracy: 0.9367\n",
      "Epoch 25/50\n",
      "38/38 [==============================] - 0s 2ms/step - loss: 0.1811 - accuracy: 0.9301 - val_loss: 0.1514 - val_accuracy: 0.9367\n",
      "Epoch 26/50\n",
      "38/38 [==============================] - 0s 2ms/step - loss: 0.1804 - accuracy: 0.9268 - val_loss: 0.1515 - val_accuracy: 0.9367\n",
      "Epoch 27/50\n",
      "38/38 [==============================] - 0s 2ms/step - loss: 0.1878 - accuracy: 0.9293 - val_loss: 0.1510 - val_accuracy: 0.9367\n",
      "Epoch 28/50\n",
      "38/38 [==============================] - 0s 2ms/step - loss: 0.1699 - accuracy: 0.9359 - val_loss: 0.1508 - val_accuracy: 0.9367\n",
      "Epoch 29/50\n",
      "38/38 [==============================] - 0s 2ms/step - loss: 0.1831 - accuracy: 0.9293 - val_loss: 0.1500 - val_accuracy: 0.9367\n",
      "Epoch 30/50\n",
      "38/38 [==============================] - 0s 2ms/step - loss: 0.1805 - accuracy: 0.9318 - val_loss: 0.1496 - val_accuracy: 0.9367\n",
      "Epoch 31/50\n",
      "38/38 [==============================] - 0s 2ms/step - loss: 0.1895 - accuracy: 0.9359 - val_loss: 0.1496 - val_accuracy: 0.9367\n",
      "Epoch 32/50\n",
      "38/38 [==============================] - 0s 2ms/step - loss: 0.1766 - accuracy: 0.9326 - val_loss: 0.1483 - val_accuracy: 0.9367\n",
      "Epoch 33/50\n",
      "38/38 [==============================] - 0s 2ms/step - loss: 0.1667 - accuracy: 0.9293 - val_loss: 0.1481 - val_accuracy: 0.9367\n",
      "Epoch 34/50\n",
      "38/38 [==============================] - 0s 2ms/step - loss: 0.1814 - accuracy: 0.9334 - val_loss: 0.1486 - val_accuracy: 0.9367\n",
      "Epoch 35/50\n",
      "38/38 [==============================] - 0s 2ms/step - loss: 0.1696 - accuracy: 0.9326 - val_loss: 0.1480 - val_accuracy: 0.9367\n",
      "Epoch 36/50\n",
      "38/38 [==============================] - 0s 2ms/step - loss: 0.1724 - accuracy: 0.9368 - val_loss: 0.1474 - val_accuracy: 0.9367\n",
      "Epoch 37/50\n",
      "38/38 [==============================] - 0s 2ms/step - loss: 0.1821 - accuracy: 0.9359 - val_loss: 0.1474 - val_accuracy: 0.9400\n",
      "Epoch 38/50\n",
      "38/38 [==============================] - 0s 2ms/step - loss: 0.1770 - accuracy: 0.9384 - val_loss: 0.1474 - val_accuracy: 0.9367\n",
      "Epoch 39/50\n",
      "38/38 [==============================] - 0s 2ms/step - loss: 0.1804 - accuracy: 0.9309 - val_loss: 0.1475 - val_accuracy: 0.9367\n",
      "Epoch 40/50\n",
      "38/38 [==============================] - 0s 2ms/step - loss: 0.1627 - accuracy: 0.9459 - val_loss: 0.1473 - val_accuracy: 0.9400\n",
      "Epoch 41/50\n",
      "38/38 [==============================] - 0s 2ms/step - loss: 0.1798 - accuracy: 0.9301 - val_loss: 0.1471 - val_accuracy: 0.9367\n",
      "Epoch 42/50\n",
      "38/38 [==============================] - 0s 2ms/step - loss: 0.1663 - accuracy: 0.9351 - val_loss: 0.1474 - val_accuracy: 0.9400\n",
      "Epoch 43/50\n",
      "38/38 [==============================] - 0s 2ms/step - loss: 0.1751 - accuracy: 0.9376 - val_loss: 0.1474 - val_accuracy: 0.9433\n",
      "Epoch 44/50\n",
      "38/38 [==============================] - 0s 2ms/step - loss: 0.1765 - accuracy: 0.9276 - val_loss: 0.1467 - val_accuracy: 0.9400\n",
      "Epoch 45/50\n",
      "38/38 [==============================] - 0s 2ms/step - loss: 0.1704 - accuracy: 0.9309 - val_loss: 0.1463 - val_accuracy: 0.9400\n",
      "Epoch 46/50\n",
      "38/38 [==============================] - 0s 2ms/step - loss: 0.1746 - accuracy: 0.9351 - val_loss: 0.1459 - val_accuracy: 0.9433\n",
      "Epoch 47/50\n",
      "38/38 [==============================] - 0s 2ms/step - loss: 0.1628 - accuracy: 0.9376 - val_loss: 0.1459 - val_accuracy: 0.9467\n",
      "Epoch 48/50\n",
      "38/38 [==============================] - 0s 2ms/step - loss: 0.1750 - accuracy: 0.9318 - val_loss: 0.1462 - val_accuracy: 0.9433\n",
      "Epoch 49/50\n",
      "38/38 [==============================] - 0s 2ms/step - loss: 0.1719 - accuracy: 0.9343 - val_loss: 0.1458 - val_accuracy: 0.9467\n",
      "Epoch 50/50\n",
      "38/38 [==============================] - 0s 2ms/step - loss: 0.1745 - accuracy: 0.9368 - val_loss: 0.1459 - val_accuracy: 0.9433\n"
     ]
    }
   ],
   "source": [
    "history = model.fit(train_ds, epochs=50, validation_data=val_ds)"
   ]
  },
  {
   "cell_type": "code",
   "execution_count": 83,
   "id": "4357bdc6",
   "metadata": {},
   "outputs": [],
   "source": [
    "# model.save('keras.h5')"
   ]
  },
  {
   "cell_type": "code",
   "execution_count": 93,
   "id": "cea4f334",
   "metadata": {},
   "outputs": [],
   "source": [
    "# model.summary()"
   ]
  },
  {
   "cell_type": "code",
   "execution_count": 85,
   "id": "80257596",
   "metadata": {},
   "outputs": [
    {
     "name": "stdout",
     "output_type": "stream",
     "text": [
      "This employee had a 85.3 percent probability of being promoted, as evaluated by our model.\n"
     ]
    }
   ],
   "source": [
    "sample = {\n",
    "    \"salary(thousand kzt)\": 400,\n",
    "    \"n_of_individual_projects\": 4,\n",
    "    \"motivation_r\": 1,\n",
    "    \"relationship_with_others_r\": 0.8,\n",
    "    \"communication_skills_r\": 0.9,\n",
    "    \"task_management_r\": 0.8,\n",
    "    \"total_rating\": 0.9,\n",
    "}\n",
    "\n",
    "input_dict = {name: tf.convert_to_tensor([value]) for name, value in sample.items()}\n",
    "predictions = model.predict(input_dict)\n",
    "\n",
    "print(\n",
    "    \"This employee had a %.1f percent probability \"\n",
    "    \"of being promoted, as evaluated by our model.\" % (100 * predictions[0][0],)\n",
    ")"
   ]
  },
  {
   "cell_type": "code",
   "execution_count": 86,
   "id": "67f80322",
   "metadata": {},
   "outputs": [],
   "source": [
    "# prediction for y_test with keras\n",
    "y_keras_pred = []\n",
    "for i in tf.convert_to_tensor(x_test):\n",
    "    item = i.numpy()\n",
    "    sample = {\n",
    "        \"n_of_individual_projects\": item[0],\n",
    "        \"motivation_r\": item[1],\n",
    "        \"relationship_with_others_r\": item[2],\n",
    "        \"communication_skills_r\": item[3],\n",
    "        \"task_management_r\": item[4],\n",
    "        \"salary(thousand kzt)\": item[5],\n",
    "        \"total_rating\": item[6],\n",
    "    }\n",
    "\n",
    "    input_dict = {name: tf.convert_to_tensor([value]) for name, value in sample.items()}\n",
    "    predictions = model.predict(input_dict)\n",
    "    y_keras_pred.append(round(predictions[0][0]))"
   ]
  },
  {
   "cell_type": "code",
   "execution_count": 87,
   "id": "721dc70f",
   "metadata": {},
   "outputs": [],
   "source": [
    "# y_keras_pred"
   ]
  },
  {
   "cell_type": "markdown",
   "id": "99b697f3",
   "metadata": {},
   "source": [
    "# Metrics"
   ]
  },
  {
   "cell_type": "code",
   "execution_count": 88,
   "id": "76537084",
   "metadata": {},
   "outputs": [
    {
     "data": {
      "text/plain": [
       "<matplotlib.legend.Legend at 0x1186a500c70>"
      ]
     },
     "execution_count": 88,
     "metadata": {},
     "output_type": "execute_result"
    },
    {
     "data": {
      "image/png": "[encoded data removed]",
      "text/plain": [
       "<Figure size 432x288 with 1 Axes>"
      ]
     },
     "metadata": {
      "needs_background": "light"
     },
     "output_type": "display_data"
    }
   ],
   "source": [
    "from sklearn.metrics import roc_curve, auc\n",
    "from matplotlib import pyplot as plt\n",
    "nn_fpr_keras, nn_tpr_keras, nn_thresholds_keras = roc_curve(y_test, y_keras_pred)\n",
    "auc_keras = auc(nn_fpr_keras, nn_tpr_keras)\n",
    "\n",
    "nn_fpr_gb, nn_tpr_gb, nn_thresholds_gb = roc_curve(y_test, y_gb_pred)\n",
    "auc_gb = auc(nn_fpr_gb, nn_tpr_gb)\n",
    "\n",
    "nn_fpr_rf, nn_tpr_rf, nn_thresholds_rf = roc_curve(y_test, y_rf_pred)\n",
    "auc_rf = auc(nn_fpr_rf, nn_tpr_rf)\n",
    "\n",
    "plt.plot(nn_fpr_keras, nn_tpr_keras, marker='.', label='Keras Sequential (AUC = %0.3f)' % auc_keras)\n",
    "plt.plot(nn_fpr_gb, nn_tpr_gb, marker='.', label='Gradien Boosting (AUC = %0.3f)' % auc_gb)\n",
    "plt.plot(nn_fpr_rf, nn_tpr_rf, marker='.', label='Random Forest (AUC = %0.3f)' % auc_rf)\n",
    "plt.ylabel('False positive rate')\n",
    "plt.xlabel('True positive rate')\n",
    "plt.title('ROC curve')\n",
    "plt.legend()"
   ]
  },
  {
   "cell_type": "code",
   "execution_count": 25,
   "id": "f1e3dcfc",
   "metadata": {},
   "outputs": [
    {
     "data": {
      "image/png": "[encoded data removed]",
      "text/plain": [
       "<Figure size 432x288 with 2 Axes>"
      ]
     },
     "metadata": {
      "needs_background": "light"
     },
     "output_type": "display_data"
    }
   ],
   "source": [
    "from sklearn.metrics import confusion_matrix, ConfusionMatrixDisplay\n",
    "cm_gb = confusion_matrix(y_test, y_gb_pred)\n",
    "disp_gb = ConfusionMatrixDisplay(confusion_matrix=cm_gb, display_labels=['not-promoted', 'promoted'])\n",
    "disp_gb.plot()\n",
    "plt.title('Gradient Boosting')\n",
    "plt.show()"
   ]
  },
  {
   "cell_type": "code",
   "execution_count": 26,
   "id": "a81bb8cf",
   "metadata": {},
   "outputs": [
    {
     "data": {
      "image/png": "[encoded data removed]",
      "text/plain": [
       "<Figure size 432x288 with 2 Axes>"
      ]
     },
     "metadata": {
      "needs_background": "light"
     },
     "output_type": "display_data"
    }
   ],
   "source": [
    "from sklearn.metrics import confusion_matrix, ConfusionMatrixDisplay\n",
    "cm_rf = confusion_matrix(y_test, y_rf_pred)\n",
    "disp_rf = ConfusionMatrixDisplay(confusion_matrix=cm_rf, display_labels=['not-promoted', 'promoted'])\n",
    "disp_rf.plot()\n",
    "plt.title('Random Forest')\n",
    "plt.show()"
   ]
  },
  {
   "cell_type": "code",
   "execution_count": 27,
   "id": "348056d2",
   "metadata": {},
   "outputs": [
    {
     "data": {
      "image/png": "[encoded data removed]",
      "text/plain": [
       "<Figure size 432x288 with 2 Axes>"
      ]
     },
     "metadata": {
      "needs_background": "light"
     },
     "output_type": "display_data"
    }
   ],
   "source": [
    "from sklearn.metrics import confusion_matrix, ConfusionMatrixDisplay\n",
    "cm_keras = confusion_matrix(y_test, y_keras_pred)\n",
    "disp_keras = ConfusionMatrixDisplay(confusion_matrix=cm_keras, display_labels=['not-promoted', 'promoted'])\n",
    "disp_keras.plot()\n",
    "plt.title('Keras Sequential')\n",
    "plt.show()"
   ]
  },
  {
   "cell_type": "code",
   "execution_count": 28,
   "id": "a353493a",
   "metadata": {},
   "outputs": [],
   "source": [
    "# pip install yellowbrick"
   ]
  },
  {
   "cell_type": "code",
   "execution_count": 28,
   "id": "a57abe4f",
   "metadata": {},
   "outputs": [
    {
     "name": "stderr",
     "output_type": "stream",
     "text": [
      "C:\\Users\\zhanm\\anaconda3\\lib\\site-packages\\sklearn\\base.py:445: UserWarning: X does not have valid feature names, but GradientBoostingClassifier was fitted with feature names\n",
      "  warnings.warn(\n"
     ]
    },
    {
     "data": {
      "image/png": "[encoded data removed]",
      "text/plain": [
       "<Figure size 576x396 with 2 Axes>"
      ]
     },
     "metadata": {},
     "output_type": "display_data"
    },
    {
     "data": {
      "text/plain": [
       "<AxesSubplot:title={'center':'GradientBoostingClassifier Classification Report'}>"
      ]
     },
     "execution_count": 28,
     "metadata": {},
     "output_type": "execute_result"
    }
   ],
   "source": [
    "from yellowbrick.classifier import ClassificationReport\n",
    "\n",
    "classes = [\"not promoted\", \"promoted\"]\n",
    "\n",
    "visualizer = ClassificationReport(gb, classes=classes)\n",
    "\n",
    "visualizer.fit(x_train, y_train)        # Fit the visualizer and the model\n",
    "visualizer.score(x_test, y_test)        # Evaluate the model on the test data\n",
    "visualizer.show()                       # Finalize and show the figure"
   ]
  },
  {
   "cell_type": "code",
   "execution_count": 29,
   "id": "2f52c875",
   "metadata": {},
   "outputs": [
    {
     "name": "stderr",
     "output_type": "stream",
     "text": [
      "C:\\Users\\zhanm\\anaconda3\\lib\\site-packages\\sklearn\\base.py:445: UserWarning: X does not have valid feature names, but RandomForestClassifier was fitted with feature names\n",
      "  warnings.warn(\n"
     ]
    },
    {
     "data": {
      "image/png": "[encoded data removed]",
      "text/plain": [
       "<Figure size 576x396 with 2 Axes>"
      ]
     },
     "metadata": {},
     "output_type": "display_data"
    },
    {
     "data": {
      "text/plain": [
       "<AxesSubplot:title={'center':'RandomForestClassifier Classification Report'}>"
      ]
     },
     "execution_count": 29,
     "metadata": {},
     "output_type": "execute_result"
    }
   ],
   "source": [
    "visualizer = ClassificationReport(rf, classes=classes)\n",
    "visualizer.fit(x_train, y_train)\n",
    "visualizer.score(x_test, y_test)\n",
    "visualizer.show()"
   ]
  },
  {
   "cell_type": "code",
   "execution_count": 30,
   "id": "27a5e08d",
   "metadata": {},
   "outputs": [
    {
     "data": {
      "text/plain": [
       "<AxesSubplot:>"
      ]
     },
     "execution_count": 30,
     "metadata": {},
     "output_type": "execute_result"
    },
    {
     "data": {
      "image/png": "[encoded data removed]",
      "text/plain": [
       "<Figure size 576x396 with 2 Axes>"
      ]
     },
     "metadata": {},
     "output_type": "display_data"
    }
   ],
   "source": [
    "import seaborn as sns\n",
    "import pandas as pd\n",
    "from sklearn.metrics import classification_report\n",
    "classes = [\"not-promoted\", \"promoted\"]\n",
    "\n",
    "clf_report = classification_report(y_test, y_keras_pred, target_names=classes, output_dict=True)\n",
    "sns.heatmap(pd.DataFrame(clf_report).iloc[:-1, :].T, annot=True)"
   ]
  },
  {
   "cell_type": "code",
   "execution_count": null,
   "id": "b777ecc2",
   "metadata": {},
   "outputs": [],
   "source": []
  }
 ],
 "metadata": {
  "kernelspec": {
   "display_name": "Python 3",
   "language": "python",
   "name": "python3"
  },
  "language_info": {
   "codemirror_mode": {
    "name": "ipython",
    "version": 3
   },
   "file_extension": ".py",
   "mimetype": "text/x-python",
   "name": "python",
   "nbconvert_exporter": "python",
   "pygments_lexer": "ipython3",
   "version": "3.8.8"
  }
 },
 "nbformat": 4,
 "nbformat_minor": 5
}
